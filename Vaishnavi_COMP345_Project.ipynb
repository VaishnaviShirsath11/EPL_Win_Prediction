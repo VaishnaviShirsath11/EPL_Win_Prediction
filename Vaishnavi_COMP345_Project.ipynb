{
  "nbformat": 4,
  "nbformat_minor": 0,
  "metadata": {
    "colab": {
      "provenance": []
    },
    "kernelspec": {
      "name": "python3",
      "display_name": "Python 3"
    },
    "language_info": {
      "name": "python"
    }
  },
  "cells": [
    {
      "cell_type": "code",
      "execution_count": 6,
      "metadata": {
        "colab": {
          "base_uri": "https://localhost:8080/",
          "height": 671
        },
        "id": "hACIiijBfxei",
        "outputId": "8a8a9a7b-7ec3-469a-9cb5-71117814901a"
      },
      "outputs": [
        {
          "output_type": "stream",
          "name": "stderr",
          "text": [
            "/usr/local/lib/python3.10/dist-packages/sklearn/metrics/_classification.py:1344: UndefinedMetricWarning: Precision is ill-defined and being set to 0.0 due to no predicted samples. Use `zero_division` parameter to control this behavior.\n",
            "  _warn_prf(average, modifier, msg_start, len(result))\n"
          ]
        },
        {
          "output_type": "stream",
          "name": "stdout",
          "text": [
            "Random Forest Accuracy: 0.6402877697841727\n",
            "Random Forest Precision: 0.48863636363636365\n",
            "Linear Regression Accuracy: 0.6474820143884892\n",
            "Linear Regression Precision: 0.0\n",
            "Precision with Rolling Averages: 0.625\n",
            "Incorrectly Predicted Wins: 1    27\n",
            "0    13\n",
            "Name: actual_result_team, dtype: int64\n"
          ]
        },
        {
          "output_type": "display_data",
          "data": {
            "text/plain": [
              "<Figure size 640x480 with 1 Axes>"
            ],
            "image/png": "[encoded data removed]"
          },
          "metadata": {}
        }
      ],
      "source": [
        "# Vaishnavi Shirsath\n",
        "#COMP345 : Principles of Machine Learning\n",
        "# Project\n",
        "# Predicting Premier League wins\n",
        "\n",
        "import pandas as pd\n",
        "from sklearn.ensemble import RandomForestClassifier\n",
        "from sklearn.linear_model import LogisticRegression\n",
        "from sklearn.metrics import accuracy_score, precision_score\n",
        "from sklearn.model_selection import train_test_split\n",
        "import matplotlib.pyplot as plt\n",
        "\n",
        "# Load the dataset\n",
        "matches = pd.read_csv(\"epl_matches.csv\", index_col=0)\n",
        "matches[\"date\"] = pd.to_datetime(matches[\"date\"])\n",
        "\n",
        "# Feature engineering\n",
        "matches[\"venue_code\"] = matches[\"venue\"].astype(\"category\").cat.codes\n",
        "matches[\"opp_code\"] = matches[\"opponent\"].astype(\"category\").cat.codes\n",
        "matches[\"hour\"] = matches[\"time\"].str.replace(\":.+\", \"\", regex=True).astype(\"int\")\n",
        "matches[\"day_code\"] = matches[\"date\"].dt.dayofweek\n",
        "matches[\"target\"] = (matches[\"result\"] == \"W\").astype(\"int\")\n",
        "\n",
        "# Train-test split\n",
        "train, test = train_test_split(matches, test_size=0.2, random_state=1)\n",
        "\n",
        "# Random Forest\n",
        "rf = RandomForestClassifier(n_estimators=50, min_samples_split=10, random_state=1)\n",
        "predictors = [\"venue_code\", \"opp_code\", \"hour\", \"day_code\"]\n",
        "rf.fit(train[predictors], train[\"target\"])\n",
        "rf_preds = rf.predict(test[predictors])\n",
        "rf_acc = accuracy_score(test[\"target\"], rf_preds)\n",
        "rf_precision = precision_score(test[\"target\"], rf_preds)\n",
        "\n",
        "# Linear Regression\n",
        "lr = LogisticRegression(random_state=1)\n",
        "lr.fit(train[predictors], train[\"target\"])\n",
        "lr_preds = lr.predict(test[predictors])\n",
        "lr_acc = accuracy_score(test[\"target\"], lr_preds)\n",
        "lr_precision = precision_score(test[\"target\"], lr_preds)\n",
        "\n",
        "# Compare Random Forest and Linear Regression\n",
        "print(\"Random Forest Accuracy:\", rf_acc)\n",
        "print(\"Random Forest Precision:\", rf_precision)\n",
        "print(\"Linear Regression Accuracy:\", lr_acc)\n",
        "print(\"Linear Regression Precision:\", lr_precision)\n",
        "\n",
        "# Rolling averages function\n",
        "def rolling_averages(group, cols, new_cols):\n",
        "    group = group.sort_values(\"date\")\n",
        "    rolling_stats = group[cols].rolling(3, closed=\"left\").mean()\n",
        "    group[new_cols] = rolling_stats\n",
        "    group = group.dropna(subset=new_cols)\n",
        "    return group\n",
        "\n",
        "# Apply rolling averages to the dataset\n",
        "cols = [\"gf\", \"ga\", \"sh\", \"sot\", \"dist\", \"fk\", \"pk\", \"pkatt\"]\n",
        "new_cols = [f\"{c}_rolling\" for c in cols]\n",
        "matches_rolling = matches.groupby(\"team\").apply(lambda x: rolling_averages(x, cols, new_cols))\n",
        "matches_rolling = matches_rolling.droplevel('team')\n",
        "matches_rolling.index = range(matches_rolling.shape[0])\n",
        "\n",
        "# Make predictions using rolling averages\n",
        "def make_predictions(data, predictors):\n",
        "    train = data[data[\"date\"] < '2022-01-01']\n",
        "    test = data[data[\"date\"] > '2022-01-01']\n",
        "    rf.fit(train[predictors], train[\"target\"])\n",
        "    preds = rf.predict(test[predictors])\n",
        "    combined = pd.DataFrame(dict(actual=test[\"target\"], predicted=preds), index=test.index)\n",
        "    precision = precision_score(test[\"target\"], preds)\n",
        "    return combined, precision\n",
        "\n",
        "# Make predictions using rolling averages\n",
        "combined, precision = make_predictions(matches_rolling, predictors + new_cols)\n",
        "print(\"Precision with Rolling Averages:\", precision)\n",
        "\n",
        "# Merge with original data for analysis\n",
        "combined = combined.merge(matches_rolling[['date', \"team\", \"opponent\", \"result\"]], left_index=True, right_index=True)\n",
        "\n",
        "# Rename columns for better clarity\n",
        "combined.rename(columns={'actual': 'actual_result', 'predicted': 'predicted_result'}, inplace=True)\n",
        "\n",
        "\n",
        "# Define MissingDict class\n",
        "class MissingDict(dict):\n",
        "    __missing__ = lambda self, key: key\n",
        "\n",
        "# Mapping for team names\n",
        "map_values = {\n",
        "    \"Brighton and Hove Albion\": \"Brighton\",\n",
        "    \"Manchester United\": \"Manchester Utd\",\n",
        "    \"Newcastle United\": \"Newcastle Utd\",\n",
        "    \"Tottenham Hotspur\": \"Tottenham\",\n",
        "    \"West Ham United\": \"West Ham\",\n",
        "    \"Wolverhampton Wanderers\": \"Wolves\"\n",
        "}\n",
        "\n",
        "mapping = MissingDict(**map_values)\n",
        "combined[\"new_team\"] = combined[\"team\"].map(mapping)\n",
        "\n",
        "# Merge with itself based on date and new_team\n",
        "merged = combined.merge(combined, left_on=[\"date\", \"new_team\"], right_on=[\"date\", \"opponent\"], suffixes=('_team', '_opponent'))\n",
        "\n",
        "# Analysis of predicted outcomes\n",
        "incorrect_predictions = merged[(merged[\"predicted_result_team\"] == 1) & (merged[\"predicted_result_opponent\"] == 0)]\n",
        "incorrect_win_count = incorrect_predictions[\"actual_result_team\"].value_counts()\n",
        "print(\"Incorrectly Predicted Wins:\", incorrect_win_count)\n",
        "\n",
        "# Visualize incorrect predictions\n",
        "plt.bar(incorrect_win_count.index, incorrect_win_count.values)\n",
        "plt.xlabel(\"Actual Outcome\")\n",
        "plt.ylabel(\"Count\")\n",
        "plt.title(\"Incorrectly Predicted Wins\")\n",
        "plt.show()\n"
      ]
    }
  ]
}